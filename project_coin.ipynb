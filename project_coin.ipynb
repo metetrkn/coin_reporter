{
 "cells": [
  {
   "cell_type": "code",
   "execution_count": 32,
   "id": "2288680f",
   "metadata": {},
   "outputs": [
    {
     "name": "stdout",
     "output_type": "stream",
     "text": [
      "Requirement already satisfied: pycoingecko in /home/mete/anaconda3/lib/python3.11/site-packages (3.1.0)\n",
      "Requirement already satisfied: requests in /home/mete/.local/lib/python3.11/site-packages (from pycoingecko) (2.31.0)\n",
      "Requirement already satisfied: charset-normalizer<4,>=2 in /home/mete/.local/lib/python3.11/site-packages (from requests->pycoingecko) (3.2.0)\n",
      "Requirement already satisfied: idna<4,>=2.5 in /home/mete/.local/lib/python3.11/site-packages (from requests->pycoingecko) (3.4)\n",
      "Requirement already satisfied: urllib3<3,>=1.21.1 in /home/mete/.local/lib/python3.11/site-packages (from requests->pycoingecko) (2.0.4)\n",
      "Requirement already satisfied: certifi>=2017.4.17 in /home/mete/.local/lib/python3.11/site-packages (from requests->pycoingecko) (2023.7.22)\n",
      "Requirement already satisfied: plotly in /home/mete/anaconda3/lib/python3.11/site-packages (5.9.0)\n",
      "Requirement already satisfied: tenacity>=6.2.0 in /home/mete/anaconda3/lib/python3.11/site-packages (from plotly) (8.2.2)\n"
     ]
    }
   ],
   "source": [
    "# installing related packages to system\n",
    "!pip install pycoingecko\n",
    "!pip install plotly"
   ]
  },
  {
   "cell_type": "code",
   "execution_count": 34,
   "id": "90e89749",
   "metadata": {},
   "outputs": [],
   "source": [
    "# importing related libraries\n",
    "from pycoingecko import CoinGeckoAPI\n",
    "import pandas as pd\n",
    "import plotly.graph_objs as go"
   ]
  },
  {
   "cell_type": "code",
   "execution_count": 4,
   "id": "4115eea4",
   "metadata": {},
   "outputs": [],
   "source": [
    "# instantiating coingecko api and requesting bitcoin 30 days data\n",
    "cg = CoinGeckoAPI()"
   ]
  },
  {
   "cell_type": "markdown",
   "id": "eb676d98",
   "metadata": {},
   "source": [
    "### To check available coin list"
   ]
  },
  {
   "cell_type": "code",
   "execution_count": 99,
   "id": "84f27f39",
   "metadata": {
    "collapsed": true
   },
   "outputs": [
    {
     "name": "stdout",
     "output_type": "stream",
     "text": [
      "Enter the coin name to check(or \"q\" to quit)eth\n",
      "Recommandation\\s:\n",
      "      Eth 2.0 Staking by Pool-X\n",
      "                         Ethane\n",
      "                  Etho Protocol\n",
      "                   Etherconnect\n",
      "                       Ethereum\n",
      "               Ethereum Classic\n",
      "               Ethereum Express\n",
      "                   EthereumFair\n",
      "                    EthereumMax\n",
      "       Ethereum Message Service\n",
      "                  Ethereum Meta\n",
      "          Ethereum Name Service\n",
      "                    EthereumPoW\n",
      "Ethereum Volatility Index Token\n",
      "            Ethereum (Wormhole)\n",
      "                      EthereumX\n",
      "                  Ether Futures\n",
      "                       EtherGem\n",
      "                   Etherisc DIP\n",
      "                      Etherland\n",
      "                      EtherLite\n",
      "                       Ethermon\n",
      "               Ethernal Finance\n",
      "                     EtherNexus\n",
      "                Ethernity Chain\n",
      "                     Etherparty\n",
      "                     Ether Wars\n",
      "                          Ethix\n",
      "                         Ethlas\n",
      "                   Ethlinq Tech\n",
      "             Ethos Reserve Note\n",
      "                         Ethrix\n",
      "Enter the coin name to check(or \"q\" to quit)q\n"
     ]
    }
   ],
   "source": [
    "### user input recommandation \n",
    "coin_names = pd.DataFrame(cg.get_coins_list())['name']\n",
    "\n",
    "while True:\n",
    "    # prompting user to input coin name or exit the recommandation system\n",
    "    coin_name = input('Enter the coin name to check(or \"q\" to quit)').capitalize()\n",
    "    \n",
    "    # using vectorized operation to find out list of recommended coins\n",
    "    recommandation = coin_names[coin_names.str.startswith(coin_name)]\n",
    "    \n",
    "    if coin_name == 'Q':\n",
    "        break\n",
    "    \n",
    "    if not recommandation.empty:\n",
    "        print(\"Recommandation\\s:\")\n",
    "        print(recommandation.to_string(index=False))  # Display recommendations without index\n",
    "    \n",
    "    else:\n",
    "        print(\"There is no such as coin in the list!\\nPlease be sure you have started with right letters!\")"
   ]
  },
  {
   "cell_type": "markdown",
   "id": "dff7dccd",
   "metadata": {},
   "source": [
    "### Prompting user to input which coin, which currency and days"
   ]
  },
  {
   "cell_type": "code",
   "execution_count": 110,
   "id": "1fa9b3c2",
   "metadata": {},
   "outputs": [
    {
     "name": "stdout",
     "output_type": "stream",
     "text": [
      "Enter the coin name\t: bitcoin\n",
      "Enter currency\\:t usd\n",
      "Enter how many days of data (op:1,17,14,30)\t: 14\n"
     ]
    }
   ],
   "source": [
    "id_ = input('Enter the coin name\\t: ').lower()\n",
    "cur = input('Enter currency\\:t ').lower()\n",
    "days = input('Enter how many days of data (op:1,17,14,30)\\t: ')"
   ]
  },
  {
   "cell_type": "code",
   "execution_count": 111,
   "id": "f7ab25f7",
   "metadata": {},
   "outputs": [
    {
     "data": {
      "text/html": [
       "<div>\n",
       "<style scoped>\n",
       "    .dataframe tbody tr th:only-of-type {\n",
       "        vertical-align: middle;\n",
       "    }\n",
       "\n",
       "    .dataframe tbody tr th {\n",
       "        vertical-align: top;\n",
       "    }\n",
       "\n",
       "    .dataframe thead th {\n",
       "        text-align: right;\n",
       "    }\n",
       "</style>\n",
       "<table border=\"1\" class=\"dataframe\">\n",
       "  <thead>\n",
       "    <tr style=\"text-align: right;\">\n",
       "      <th></th>\n",
       "      <th>date</th>\n",
       "      <th>open</th>\n",
       "      <th>high</th>\n",
       "      <th>low</th>\n",
       "      <th>close</th>\n",
       "    </tr>\n",
       "  </thead>\n",
       "  <tbody>\n",
       "    <tr>\n",
       "      <th>0</th>\n",
       "      <td>2023-09-04 00:00:00</td>\n",
       "      <td>25966.0</td>\n",
       "      <td>25966.0</td>\n",
       "      <td>25948.0</td>\n",
       "      <td>25948.0</td>\n",
       "    </tr>\n",
       "    <tr>\n",
       "      <th>1</th>\n",
       "      <td>2023-09-04 04:00:00</td>\n",
       "      <td>25960.0</td>\n",
       "      <td>25989.0</td>\n",
       "      <td>25889.0</td>\n",
       "      <td>25989.0</td>\n",
       "    </tr>\n",
       "    <tr>\n",
       "      <th>2</th>\n",
       "      <td>2023-09-04 08:00:00</td>\n",
       "      <td>25998.0</td>\n",
       "      <td>25998.0</td>\n",
       "      <td>25942.0</td>\n",
       "      <td>25965.0</td>\n",
       "    </tr>\n",
       "    <tr>\n",
       "      <th>3</th>\n",
       "      <td>2023-09-04 12:00:00</td>\n",
       "      <td>25983.0</td>\n",
       "      <td>25983.0</td>\n",
       "      <td>25895.0</td>\n",
       "      <td>25895.0</td>\n",
       "    </tr>\n",
       "    <tr>\n",
       "      <th>4</th>\n",
       "      <td>2023-09-04 16:00:00</td>\n",
       "      <td>25881.0</td>\n",
       "      <td>25885.0</td>\n",
       "      <td>25848.0</td>\n",
       "      <td>25857.0</td>\n",
       "    </tr>\n",
       "  </tbody>\n",
       "</table>\n",
       "</div>"
      ],
      "text/plain": [
       "                 date     open     high      low    close\n",
       "0 2023-09-04 00:00:00  25966.0  25966.0  25948.0  25948.0\n",
       "1 2023-09-04 04:00:00  25960.0  25989.0  25889.0  25989.0\n",
       "2 2023-09-04 08:00:00  25998.0  25998.0  25942.0  25965.0\n",
       "3 2023-09-04 12:00:00  25983.0  25983.0  25895.0  25895.0\n",
       "4 2023-09-04 16:00:00  25881.0  25885.0  25848.0  25857.0"
      ]
     },
     "execution_count": 111,
     "metadata": {},
     "output_type": "execute_result"
    }
   ],
   "source": [
    "# getting coin data\n",
    "ohlc = cg.get_coin_ohlc_by_id(\n",
    "    id=id_, vs_currency=cur, days=days\n",
    ")\n",
    "\n",
    "# creating pandas df\n",
    "ohlc_df = pd.DataFrame(ohlc)\n",
    "\n",
    "# creating columns\n",
    "ohlc_df.columns = [\"date\", \"open\", \"high\", \"low\", \"close\"]\n",
    "\n",
    "# creating datetime from date column\n",
    "ohlc_df[\"date\"] = pd.to_datetime(ohlc_df[\"date\"], unit=\"ms\")\n",
    "ohlc_df.head()"
   ]
  },
  {
   "cell_type": "markdown",
   "id": "ae088a73",
   "metadata": {},
   "source": [
    "### Visualization data of coin"
   ]
  },
  {
   "cell_type": "code",
   "execution_count": 51,
   "id": "18c319f5",
   "metadata": {
    "scrolled": false
   },
   "outputs": [
    {
     "data": {
      "application/vnd.plotly.v1+json": {
       "config": {
        "plotlyServerURL": "https://plot.ly"
       },
       "data": [
        {
         "close": [
          25948,
          25989,
          25965,
          25895,
          25857,
          25921,
          25749,
          25685,
          25700,
          25741,
          25680,
          25727,
          25754,
          25836,
          25764,
          25712,
          25577,
          25658,
          25725,
          25747,
          25763,
          25715,
          25726,
          25880,
          26388,
          26216,
          26213,
          25838,
          25878,
          25797,
          25906,
          25879,
          25868,
          25851,
          25846,
          25854,
          25900,
          25848,
          25855,
          25802,
          25768,
          25720,
          25857,
          25727,
          25831,
          25690,
          25135,
          25165,
          25140,
          25196,
          25751,
          26124,
          26109,
          25957,
          25979,
          25921,
          25951,
          26106,
          26188,
          26133,
          26234,
          26249,
          26289,
          26299,
          26752,
          26601,
          26616,
          26600,
          26576,
          26630,
          26252,
          26357,
          26793,
          26704,
          26471,
          26528,
          26515,
          26571,
          26566,
          26525,
          26550,
          26605,
          26573,
          26502,
          26504
         ],
         "high": [
          26055,
          25989,
          25998,
          25983,
          25885,
          25921,
          25872,
          25829,
          25716,
          25741,
          25807,
          25766,
          25754,
          25836,
          25767,
          25744,
          25738,
          25685,
          25725,
          25753,
          25823,
          25754,
          25726,
          25923,
          26388,
          26356,
          26328,
          26245,
          25911,
          25843,
          25907,
          25907,
          25868,
          25884,
          25854,
          25907,
          25900,
          25890,
          25857,
          25854,
          25824,
          25779,
          25863,
          25835,
          25836,
          25812,
          25692,
          25197,
          25140,
          25196,
          25788,
          26124,
          26288,
          26204,
          26101,
          25937,
          25951,
          26122,
          26188,
          26304,
          26234,
          26489,
          26289,
          26356,
          26752,
          26689,
          26637,
          26600,
          26654,
          26642,
          26480,
          26367,
          26793,
          26704,
          26624,
          26542,
          26574,
          26577,
          26577,
          26558,
          26562,
          26605,
          26586,
          26556,
          26504
         ],
         "low": [
          25948,
          25889,
          25942,
          25895,
          25848,
          25805,
          25660,
          25685,
          25652,
          25671,
          25680,
          25727,
          25706,
          25770,
          25724,
          25712,
          25577,
          25581,
          25643,
          25723,
          25763,
          25715,
          25648,
          25761,
          25872,
          26192,
          26213,
          25838,
          25830,
          25765,
          25880,
          25856,
          25836,
          25851,
          25813,
          25854,
          25854,
          25845,
          25820,
          25802,
          25768,
          25682,
          25739,
          25686,
          25730,
          25690,
          25135,
          25104,
          25023,
          25133,
          25751,
          25775,
          26082,
          25957,
          25979,
          25850,
          25843,
          25886,
          26181,
          26091,
          26145,
          26208,
          26193,
          26280,
          26418,
          26583,
          26545,
          26506,
          26576,
          26569,
          26252,
          26321,
          26407,
          26610,
          26471,
          26490,
          26515,
          26532,
          26535,
          26470,
          26535,
          26495,
          26550,
          26497,
          26504
         ],
         "open": [
          26055,
          25960,
          25998,
          25983,
          25881,
          25805,
          25872,
          25829,
          25652,
          25705,
          25765,
          25766,
          25706,
          25770,
          25767,
          25737,
          25715,
          25602,
          25643,
          25753,
          25823,
          25754,
          25692,
          25761,
          25872,
          26192,
          26262,
          26245,
          25830,
          25843,
          25880,
          25907,
          25865,
          25862,
          25854,
          25907,
          25858,
          25890,
          25857,
          25849,
          25806,
          25774,
          25739,
          25835,
          25730,
          25806,
          25591,
          25104,
          25023,
          25133,
          25788,
          25813,
          26082,
          26204,
          26101,
          25850,
          25843,
          25886,
          26181,
          26241,
          26145,
          26222,
          26259,
          26356,
          26418,
          26689,
          26637,
          26531,
          26619,
          26569,
          26480,
          26321,
          26428,
          26610,
          26624,
          26490,
          26530,
          26532,
          26535,
          26558,
          26535,
          26495,
          26586,
          26556,
          26504
         ],
         "type": "candlestick",
         "x": [
          "2023-09-04T00:00:00",
          "2023-09-04T04:00:00",
          "2023-09-04T08:00:00",
          "2023-09-04T12:00:00",
          "2023-09-04T16:00:00",
          "2023-09-04T20:00:00",
          "2023-09-05T00:00:00",
          "2023-09-05T04:00:00",
          "2023-09-05T08:00:00",
          "2023-09-05T12:00:00",
          "2023-09-05T16:00:00",
          "2023-09-05T20:00:00",
          "2023-09-06T00:00:00",
          "2023-09-06T04:00:00",
          "2023-09-06T08:00:00",
          "2023-09-06T12:00:00",
          "2023-09-06T16:00:00",
          "2023-09-06T20:00:00",
          "2023-09-07T00:00:00",
          "2023-09-07T04:00:00",
          "2023-09-07T08:00:00",
          "2023-09-07T12:00:00",
          "2023-09-07T16:00:00",
          "2023-09-07T20:00:00",
          "2023-09-08T00:00:00",
          "2023-09-08T04:00:00",
          "2023-09-08T08:00:00",
          "2023-09-08T12:00:00",
          "2023-09-08T16:00:00",
          "2023-09-08T20:00:00",
          "2023-09-09T00:00:00",
          "2023-09-09T04:00:00",
          "2023-09-09T08:00:00",
          "2023-09-09T12:00:00",
          "2023-09-09T16:00:00",
          "2023-09-09T20:00:00",
          "2023-09-10T00:00:00",
          "2023-09-10T04:00:00",
          "2023-09-10T08:00:00",
          "2023-09-10T12:00:00",
          "2023-09-10T16:00:00",
          "2023-09-10T20:00:00",
          "2023-09-11T00:00:00",
          "2023-09-11T04:00:00",
          "2023-09-11T08:00:00",
          "2023-09-11T12:00:00",
          "2023-09-11T16:00:00",
          "2023-09-11T20:00:00",
          "2023-09-12T00:00:00",
          "2023-09-12T04:00:00",
          "2023-09-12T08:00:00",
          "2023-09-12T12:00:00",
          "2023-09-12T16:00:00",
          "2023-09-12T20:00:00",
          "2023-09-13T00:00:00",
          "2023-09-13T04:00:00",
          "2023-09-13T08:00:00",
          "2023-09-13T12:00:00",
          "2023-09-13T16:00:00",
          "2023-09-13T20:00:00",
          "2023-09-14T00:00:00",
          "2023-09-14T04:00:00",
          "2023-09-14T08:00:00",
          "2023-09-14T12:00:00",
          "2023-09-14T16:00:00",
          "2023-09-14T20:00:00",
          "2023-09-15T00:00:00",
          "2023-09-15T04:00:00",
          "2023-09-15T08:00:00",
          "2023-09-15T12:00:00",
          "2023-09-15T16:00:00",
          "2023-09-15T20:00:00",
          "2023-09-16T00:00:00",
          "2023-09-16T04:00:00",
          "2023-09-16T08:00:00",
          "2023-09-16T12:00:00",
          "2023-09-16T16:00:00",
          "2023-09-16T20:00:00",
          "2023-09-17T00:00:00",
          "2023-09-17T04:00:00",
          "2023-09-17T08:00:00",
          "2023-09-17T12:00:00",
          "2023-09-17T16:00:00",
          "2023-09-17T20:00:00",
          "2023-09-18T00:00:00"
         ]
        }
       ],
       "layout": {
        "template": {
         "data": {
          "bar": [
           {
            "error_x": {
             "color": "#2a3f5f"
            },
            "error_y": {
             "color": "#2a3f5f"
            },
            "marker": {
             "line": {
              "color": "#E5ECF6",
              "width": 0.5
             },
             "pattern": {
              "fillmode": "overlay",
              "size": 10,
              "solidity": 0.2
             }
            },
            "type": "bar"
           }
          ],
          "barpolar": [
           {
            "marker": {
             "line": {
              "color": "#E5ECF6",
              "width": 0.5
             },
             "pattern": {
              "fillmode": "overlay",
              "size": 10,
              "solidity": 0.2
             }
            },
            "type": "barpolar"
           }
          ],
          "carpet": [
           {
            "aaxis": {
             "endlinecolor": "#2a3f5f",
             "gridcolor": "white",
             "linecolor": "white",
             "minorgridcolor": "white",
             "startlinecolor": "#2a3f5f"
            },
            "baxis": {
             "endlinecolor": "#2a3f5f",
             "gridcolor": "white",
             "linecolor": "white",
             "minorgridcolor": "white",
             "startlinecolor": "#2a3f5f"
            },
            "type": "carpet"
           }
          ],
          "choropleth": [
           {
            "colorbar": {
             "outlinewidth": 0,
             "ticks": ""
            },
            "type": "choropleth"
           }
          ],
          "contour": [
           {
            "colorbar": {
             "outlinewidth": 0,
             "ticks": ""
            },
            "colorscale": [
             [
              0,
              "#0d0887"
             ],
             [
              0.1111111111111111,
              "#46039f"
             ],
             [
              0.2222222222222222,
              "#7201a8"
             ],
             [
              0.3333333333333333,
              "#9c179e"
             ],
             [
              0.4444444444444444,
              "#bd3786"
             ],
             [
              0.5555555555555556,
              "#d8576b"
             ],
             [
              0.6666666666666666,
              "#ed7953"
             ],
             [
              0.7777777777777778,
              "#fb9f3a"
             ],
             [
              0.8888888888888888,
              "#fdca26"
             ],
             [
              1,
              "#f0f921"
             ]
            ],
            "type": "contour"
           }
          ],
          "contourcarpet": [
           {
            "colorbar": {
             "outlinewidth": 0,
             "ticks": ""
            },
            "type": "contourcarpet"
           }
          ],
          "heatmap": [
           {
            "colorbar": {
             "outlinewidth": 0,
             "ticks": ""
            },
            "colorscale": [
             [
              0,
              "#0d0887"
             ],
             [
              0.1111111111111111,
              "#46039f"
             ],
             [
              0.2222222222222222,
              "#7201a8"
             ],
             [
              0.3333333333333333,
              "#9c179e"
             ],
             [
              0.4444444444444444,
              "#bd3786"
             ],
             [
              0.5555555555555556,
              "#d8576b"
             ],
             [
              0.6666666666666666,
              "#ed7953"
             ],
             [
              0.7777777777777778,
              "#fb9f3a"
             ],
             [
              0.8888888888888888,
              "#fdca26"
             ],
             [
              1,
              "#f0f921"
             ]
            ],
            "type": "heatmap"
           }
          ],
          "heatmapgl": [
           {
            "colorbar": {
             "outlinewidth": 0,
             "ticks": ""
            },
            "colorscale": [
             [
              0,
              "#0d0887"
             ],
             [
              0.1111111111111111,
              "#46039f"
             ],
             [
              0.2222222222222222,
              "#7201a8"
             ],
             [
              0.3333333333333333,
              "#9c179e"
             ],
             [
              0.4444444444444444,
              "#bd3786"
             ],
             [
              0.5555555555555556,
              "#d8576b"
             ],
             [
              0.6666666666666666,
              "#ed7953"
             ],
             [
              0.7777777777777778,
              "#fb9f3a"
             ],
             [
              0.8888888888888888,
              "#fdca26"
             ],
             [
              1,
              "#f0f921"
             ]
            ],
            "type": "heatmapgl"
           }
          ],
          "histogram": [
           {
            "marker": {
             "pattern": {
              "fillmode": "overlay",
              "size": 10,
              "solidity": 0.2
             }
            },
            "type": "histogram"
           }
          ],
          "histogram2d": [
           {
            "colorbar": {
             "outlinewidth": 0,
             "ticks": ""
            },
            "colorscale": [
             [
              0,
              "#0d0887"
             ],
             [
              0.1111111111111111,
              "#46039f"
             ],
             [
              0.2222222222222222,
              "#7201a8"
             ],
             [
              0.3333333333333333,
              "#9c179e"
             ],
             [
              0.4444444444444444,
              "#bd3786"
             ],
             [
              0.5555555555555556,
              "#d8576b"
             ],
             [
              0.6666666666666666,
              "#ed7953"
             ],
             [
              0.7777777777777778,
              "#fb9f3a"
             ],
             [
              0.8888888888888888,
              "#fdca26"
             ],
             [
              1,
              "#f0f921"
             ]
            ],
            "type": "histogram2d"
           }
          ],
          "histogram2dcontour": [
           {
            "colorbar": {
             "outlinewidth": 0,
             "ticks": ""
            },
            "colorscale": [
             [
              0,
              "#0d0887"
             ],
             [
              0.1111111111111111,
              "#46039f"
             ],
             [
              0.2222222222222222,
              "#7201a8"
             ],
             [
              0.3333333333333333,
              "#9c179e"
             ],
             [
              0.4444444444444444,
              "#bd3786"
             ],
             [
              0.5555555555555556,
              "#d8576b"
             ],
             [
              0.6666666666666666,
              "#ed7953"
             ],
             [
              0.7777777777777778,
              "#fb9f3a"
             ],
             [
              0.8888888888888888,
              "#fdca26"
             ],
             [
              1,
              "#f0f921"
             ]
            ],
            "type": "histogram2dcontour"
           }
          ],
          "mesh3d": [
           {
            "colorbar": {
             "outlinewidth": 0,
             "ticks": ""
            },
            "type": "mesh3d"
           }
          ],
          "parcoords": [
           {
            "line": {
             "colorbar": {
              "outlinewidth": 0,
              "ticks": ""
             }
            },
            "type": "parcoords"
           }
          ],
          "pie": [
           {
            "automargin": true,
            "type": "pie"
           }
          ],
          "scatter": [
           {
            "fillpattern": {
             "fillmode": "overlay",
             "size": 10,
             "solidity": 0.2
            },
            "type": "scatter"
           }
          ],
          "scatter3d": [
           {
            "line": {
             "colorbar": {
              "outlinewidth": 0,
              "ticks": ""
             }
            },
            "marker": {
             "colorbar": {
              "outlinewidth": 0,
              "ticks": ""
             }
            },
            "type": "scatter3d"
           }
          ],
          "scattercarpet": [
           {
            "marker": {
             "colorbar": {
              "outlinewidth": 0,
              "ticks": ""
             }
            },
            "type": "scattercarpet"
           }
          ],
          "scattergeo": [
           {
            "marker": {
             "colorbar": {
              "outlinewidth": 0,
              "ticks": ""
             }
            },
            "type": "scattergeo"
           }
          ],
          "scattergl": [
           {
            "marker": {
             "colorbar": {
              "outlinewidth": 0,
              "ticks": ""
             }
            },
            "type": "scattergl"
           }
          ],
          "scattermapbox": [
           {
            "marker": {
             "colorbar": {
              "outlinewidth": 0,
              "ticks": ""
             }
            },
            "type": "scattermapbox"
           }
          ],
          "scatterpolar": [
           {
            "marker": {
             "colorbar": {
              "outlinewidth": 0,
              "ticks": ""
             }
            },
            "type": "scatterpolar"
           }
          ],
          "scatterpolargl": [
           {
            "marker": {
             "colorbar": {
              "outlinewidth": 0,
              "ticks": ""
             }
            },
            "type": "scatterpolargl"
           }
          ],
          "scatterternary": [
           {
            "marker": {
             "colorbar": {
              "outlinewidth": 0,
              "ticks": ""
             }
            },
            "type": "scatterternary"
           }
          ],
          "surface": [
           {
            "colorbar": {
             "outlinewidth": 0,
             "ticks": ""
            },
            "colorscale": [
             [
              0,
              "#0d0887"
             ],
             [
              0.1111111111111111,
              "#46039f"
             ],
             [
              0.2222222222222222,
              "#7201a8"
             ],
             [
              0.3333333333333333,
              "#9c179e"
             ],
             [
              0.4444444444444444,
              "#bd3786"
             ],
             [
              0.5555555555555556,
              "#d8576b"
             ],
             [
              0.6666666666666666,
              "#ed7953"
             ],
             [
              0.7777777777777778,
              "#fb9f3a"
             ],
             [
              0.8888888888888888,
              "#fdca26"
             ],
             [
              1,
              "#f0f921"
             ]
            ],
            "type": "surface"
           }
          ],
          "table": [
           {
            "cells": {
             "fill": {
              "color": "#EBF0F8"
             },
             "line": {
              "color": "white"
             }
            },
            "header": {
             "fill": {
              "color": "#C8D4E3"
             },
             "line": {
              "color": "white"
             }
            },
            "type": "table"
           }
          ]
         },
         "layout": {
          "annotationdefaults": {
           "arrowcolor": "#2a3f5f",
           "arrowhead": 0,
           "arrowwidth": 1
          },
          "autotypenumbers": "strict",
          "coloraxis": {
           "colorbar": {
            "outlinewidth": 0,
            "ticks": ""
           }
          },
          "colorscale": {
           "diverging": [
            [
             0,
             "#8e0152"
            ],
            [
             0.1,
             "#c51b7d"
            ],
            [
             0.2,
             "#de77ae"
            ],
            [
             0.3,
             "#f1b6da"
            ],
            [
             0.4,
             "#fde0ef"
            ],
            [
             0.5,
             "#f7f7f7"
            ],
            [
             0.6,
             "#e6f5d0"
            ],
            [
             0.7,
             "#b8e186"
            ],
            [
             0.8,
             "#7fbc41"
            ],
            [
             0.9,
             "#4d9221"
            ],
            [
             1,
             "#276419"
            ]
           ],
           "sequential": [
            [
             0,
             "#0d0887"
            ],
            [
             0.1111111111111111,
             "#46039f"
            ],
            [
             0.2222222222222222,
             "#7201a8"
            ],
            [
             0.3333333333333333,
             "#9c179e"
            ],
            [
             0.4444444444444444,
             "#bd3786"
            ],
            [
             0.5555555555555556,
             "#d8576b"
            ],
            [
             0.6666666666666666,
             "#ed7953"
            ],
            [
             0.7777777777777778,
             "#fb9f3a"
            ],
            [
             0.8888888888888888,
             "#fdca26"
            ],
            [
             1,
             "#f0f921"
            ]
           ],
           "sequentialminus": [
            [
             0,
             "#0d0887"
            ],
            [
             0.1111111111111111,
             "#46039f"
            ],
            [
             0.2222222222222222,
             "#7201a8"
            ],
            [
             0.3333333333333333,
             "#9c179e"
            ],
            [
             0.4444444444444444,
             "#bd3786"
            ],
            [
             0.5555555555555556,
             "#d8576b"
            ],
            [
             0.6666666666666666,
             "#ed7953"
            ],
            [
             0.7777777777777778,
             "#fb9f3a"
            ],
            [
             0.8888888888888888,
             "#fdca26"
            ],
            [
             1,
             "#f0f921"
            ]
           ]
          },
          "colorway": [
           "#636efa",
           "#EF553B",
           "#00cc96",
           "#ab63fa",
           "#FFA15A",
           "#19d3f3",
           "#FF6692",
           "#B6E880",
           "#FF97FF",
           "#FECB52"
          ],
          "font": {
           "color": "#2a3f5f"
          },
          "geo": {
           "bgcolor": "white",
           "lakecolor": "white",
           "landcolor": "#E5ECF6",
           "showlakes": true,
           "showland": true,
           "subunitcolor": "white"
          },
          "hoverlabel": {
           "align": "left"
          },
          "hovermode": "closest",
          "mapbox": {
           "style": "light"
          },
          "paper_bgcolor": "white",
          "plot_bgcolor": "#E5ECF6",
          "polar": {
           "angularaxis": {
            "gridcolor": "white",
            "linecolor": "white",
            "ticks": ""
           },
           "bgcolor": "#E5ECF6",
           "radialaxis": {
            "gridcolor": "white",
            "linecolor": "white",
            "ticks": ""
           }
          },
          "scene": {
           "xaxis": {
            "backgroundcolor": "#E5ECF6",
            "gridcolor": "white",
            "gridwidth": 2,
            "linecolor": "white",
            "showbackground": true,
            "ticks": "",
            "zerolinecolor": "white"
           },
           "yaxis": {
            "backgroundcolor": "#E5ECF6",
            "gridcolor": "white",
            "gridwidth": 2,
            "linecolor": "white",
            "showbackground": true,
            "ticks": "",
            "zerolinecolor": "white"
           },
           "zaxis": {
            "backgroundcolor": "#E5ECF6",
            "gridcolor": "white",
            "gridwidth": 2,
            "linecolor": "white",
            "showbackground": true,
            "ticks": "",
            "zerolinecolor": "white"
           }
          },
          "shapedefaults": {
           "line": {
            "color": "#2a3f5f"
           }
          },
          "ternary": {
           "aaxis": {
            "gridcolor": "white",
            "linecolor": "white",
            "ticks": ""
           },
           "baxis": {
            "gridcolor": "white",
            "linecolor": "white",
            "ticks": ""
           },
           "bgcolor": "#E5ECF6",
           "caxis": {
            "gridcolor": "white",
            "linecolor": "white",
            "ticks": ""
           }
          },
          "title": {
           "x": 0.05
          },
          "xaxis": {
           "automargin": true,
           "gridcolor": "white",
           "linecolor": "white",
           "ticks": "",
           "title": {
            "standoff": 15
           },
           "zerolinecolor": "white",
           "zerolinewidth": 2
          },
          "yaxis": {
           "automargin": true,
           "gridcolor": "white",
           "linecolor": "white",
           "ticks": "",
           "title": {
            "standoff": 15
           },
           "zerolinecolor": "white",
           "zerolinewidth": 2
          }
         }
        },
        "title": {
         "text": "Bitcoin Chart"
        },
        "xaxis": {
         "rangeslider": {
          "visible": true
         },
         "title": {
          "text": "Date"
         }
        },
        "yaxis": {
         "title": {
          "text": "Price USD"
         }
        }
       }
      },
      "text/html": [
       "<div>                            <div id=\"64091c66-de6f-4482-b46f-f3c61ca996ec\" class=\"plotly-graph-div\" style=\"height:525px; width:100%;\"></div>            <script type=\"text/javascript\">                require([\"plotly\"], function(Plotly) {                    window.PLOTLYENV=window.PLOTLYENV || {};                                    if (document.getElementById(\"64091c66-de6f-4482-b46f-f3c61ca996ec\")) {                    Plotly.newPlot(                        \"64091c66-de6f-4482-b46f-f3c61ca996ec\",                        [{\"close\":[25948.0,25989.0,25965.0,25895.0,25857.0,25921.0,25749.0,25685.0,25700.0,25741.0,25680.0,25727.0,25754.0,25836.0,25764.0,25712.0,25577.0,25658.0,25725.0,25747.0,25763.0,25715.0,25726.0,25880.0,26388.0,26216.0,26213.0,25838.0,25878.0,25797.0,25906.0,25879.0,25868.0,25851.0,25846.0,25854.0,25900.0,25848.0,25855.0,25802.0,25768.0,25720.0,25857.0,25727.0,25831.0,25690.0,25135.0,25165.0,25140.0,25196.0,25751.0,26124.0,26109.0,25957.0,25979.0,25921.0,25951.0,26106.0,26188.0,26133.0,26234.0,26249.0,26289.0,26299.0,26752.0,26601.0,26616.0,26600.0,26576.0,26630.0,26252.0,26357.0,26793.0,26704.0,26471.0,26528.0,26515.0,26571.0,26566.0,26525.0,26550.0,26605.0,26573.0,26502.0,26504.0],\"high\":[26055.0,25989.0,25998.0,25983.0,25885.0,25921.0,25872.0,25829.0,25716.0,25741.0,25807.0,25766.0,25754.0,25836.0,25767.0,25744.0,25738.0,25685.0,25725.0,25753.0,25823.0,25754.0,25726.0,25923.0,26388.0,26356.0,26328.0,26245.0,25911.0,25843.0,25907.0,25907.0,25868.0,25884.0,25854.0,25907.0,25900.0,25890.0,25857.0,25854.0,25824.0,25779.0,25863.0,25835.0,25836.0,25812.0,25692.0,25197.0,25140.0,25196.0,25788.0,26124.0,26288.0,26204.0,26101.0,25937.0,25951.0,26122.0,26188.0,26304.0,26234.0,26489.0,26289.0,26356.0,26752.0,26689.0,26637.0,26600.0,26654.0,26642.0,26480.0,26367.0,26793.0,26704.0,26624.0,26542.0,26574.0,26577.0,26577.0,26558.0,26562.0,26605.0,26586.0,26556.0,26504.0],\"low\":[25948.0,25889.0,25942.0,25895.0,25848.0,25805.0,25660.0,25685.0,25652.0,25671.0,25680.0,25727.0,25706.0,25770.0,25724.0,25712.0,25577.0,25581.0,25643.0,25723.0,25763.0,25715.0,25648.0,25761.0,25872.0,26192.0,26213.0,25838.0,25830.0,25765.0,25880.0,25856.0,25836.0,25851.0,25813.0,25854.0,25854.0,25845.0,25820.0,25802.0,25768.0,25682.0,25739.0,25686.0,25730.0,25690.0,25135.0,25104.0,25023.0,25133.0,25751.0,25775.0,26082.0,25957.0,25979.0,25850.0,25843.0,25886.0,26181.0,26091.0,26145.0,26208.0,26193.0,26280.0,26418.0,26583.0,26545.0,26506.0,26576.0,26569.0,26252.0,26321.0,26407.0,26610.0,26471.0,26490.0,26515.0,26532.0,26535.0,26470.0,26535.0,26495.0,26550.0,26497.0,26504.0],\"open\":[26055.0,25960.0,25998.0,25983.0,25881.0,25805.0,25872.0,25829.0,25652.0,25705.0,25765.0,25766.0,25706.0,25770.0,25767.0,25737.0,25715.0,25602.0,25643.0,25753.0,25823.0,25754.0,25692.0,25761.0,25872.0,26192.0,26262.0,26245.0,25830.0,25843.0,25880.0,25907.0,25865.0,25862.0,25854.0,25907.0,25858.0,25890.0,25857.0,25849.0,25806.0,25774.0,25739.0,25835.0,25730.0,25806.0,25591.0,25104.0,25023.0,25133.0,25788.0,25813.0,26082.0,26204.0,26101.0,25850.0,25843.0,25886.0,26181.0,26241.0,26145.0,26222.0,26259.0,26356.0,26418.0,26689.0,26637.0,26531.0,26619.0,26569.0,26480.0,26321.0,26428.0,26610.0,26624.0,26490.0,26530.0,26532.0,26535.0,26558.0,26535.0,26495.0,26586.0,26556.0,26504.0],\"x\":[\"2023-09-04T00:00:00\",\"2023-09-04T04:00:00\",\"2023-09-04T08:00:00\",\"2023-09-04T12:00:00\",\"2023-09-04T16:00:00\",\"2023-09-04T20:00:00\",\"2023-09-05T00:00:00\",\"2023-09-05T04:00:00\",\"2023-09-05T08:00:00\",\"2023-09-05T12:00:00\",\"2023-09-05T16:00:00\",\"2023-09-05T20:00:00\",\"2023-09-06T00:00:00\",\"2023-09-06T04:00:00\",\"2023-09-06T08:00:00\",\"2023-09-06T12:00:00\",\"2023-09-06T16:00:00\",\"2023-09-06T20:00:00\",\"2023-09-07T00:00:00\",\"2023-09-07T04:00:00\",\"2023-09-07T08:00:00\",\"2023-09-07T12:00:00\",\"2023-09-07T16:00:00\",\"2023-09-07T20:00:00\",\"2023-09-08T00:00:00\",\"2023-09-08T04:00:00\",\"2023-09-08T08:00:00\",\"2023-09-08T12:00:00\",\"2023-09-08T16:00:00\",\"2023-09-08T20:00:00\",\"2023-09-09T00:00:00\",\"2023-09-09T04:00:00\",\"2023-09-09T08:00:00\",\"2023-09-09T12:00:00\",\"2023-09-09T16:00:00\",\"2023-09-09T20:00:00\",\"2023-09-10T00:00:00\",\"2023-09-10T04:00:00\",\"2023-09-10T08:00:00\",\"2023-09-10T12:00:00\",\"2023-09-10T16:00:00\",\"2023-09-10T20:00:00\",\"2023-09-11T00:00:00\",\"2023-09-11T04:00:00\",\"2023-09-11T08:00:00\",\"2023-09-11T12:00:00\",\"2023-09-11T16:00:00\",\"2023-09-11T20:00:00\",\"2023-09-12T00:00:00\",\"2023-09-12T04:00:00\",\"2023-09-12T08:00:00\",\"2023-09-12T12:00:00\",\"2023-09-12T16:00:00\",\"2023-09-12T20:00:00\",\"2023-09-13T00:00:00\",\"2023-09-13T04:00:00\",\"2023-09-13T08:00:00\",\"2023-09-13T12:00:00\",\"2023-09-13T16:00:00\",\"2023-09-13T20:00:00\",\"2023-09-14T00:00:00\",\"2023-09-14T04:00:00\",\"2023-09-14T08:00:00\",\"2023-09-14T12:00:00\",\"2023-09-14T16:00:00\",\"2023-09-14T20:00:00\",\"2023-09-15T00:00:00\",\"2023-09-15T04:00:00\",\"2023-09-15T08:00:00\",\"2023-09-15T12:00:00\",\"2023-09-15T16:00:00\",\"2023-09-15T20:00:00\",\"2023-09-16T00:00:00\",\"2023-09-16T04:00:00\",\"2023-09-16T08:00:00\",\"2023-09-16T12:00:00\",\"2023-09-16T16:00:00\",\"2023-09-16T20:00:00\",\"2023-09-17T00:00:00\",\"2023-09-17T04:00:00\",\"2023-09-17T08:00:00\",\"2023-09-17T12:00:00\",\"2023-09-17T16:00:00\",\"2023-09-17T20:00:00\",\"2023-09-18T00:00:00\"],\"type\":\"candlestick\"}],                        {\"template\":{\"data\":{\"histogram2dcontour\":[{\"type\":\"histogram2dcontour\",\"colorbar\":{\"outlinewidth\":0,\"ticks\":\"\"},\"colorscale\":[[0.0,\"#0d0887\"],[0.1111111111111111,\"#46039f\"],[0.2222222222222222,\"#7201a8\"],[0.3333333333333333,\"#9c179e\"],[0.4444444444444444,\"#bd3786\"],[0.5555555555555556,\"#d8576b\"],[0.6666666666666666,\"#ed7953\"],[0.7777777777777778,\"#fb9f3a\"],[0.8888888888888888,\"#fdca26\"],[1.0,\"#f0f921\"]]}],\"choropleth\":[{\"type\":\"choropleth\",\"colorbar\":{\"outlinewidth\":0,\"ticks\":\"\"}}],\"histogram2d\":[{\"type\":\"histogram2d\",\"colorbar\":{\"outlinewidth\":0,\"ticks\":\"\"},\"colorscale\":[[0.0,\"#0d0887\"],[0.1111111111111111,\"#46039f\"],[0.2222222222222222,\"#7201a8\"],[0.3333333333333333,\"#9c179e\"],[0.4444444444444444,\"#bd3786\"],[0.5555555555555556,\"#d8576b\"],[0.6666666666666666,\"#ed7953\"],[0.7777777777777778,\"#fb9f3a\"],[0.8888888888888888,\"#fdca26\"],[1.0,\"#f0f921\"]]}],\"heatmap\":[{\"type\":\"heatmap\",\"colorbar\":{\"outlinewidth\":0,\"ticks\":\"\"},\"colorscale\":[[0.0,\"#0d0887\"],[0.1111111111111111,\"#46039f\"],[0.2222222222222222,\"#7201a8\"],[0.3333333333333333,\"#9c179e\"],[0.4444444444444444,\"#bd3786\"],[0.5555555555555556,\"#d8576b\"],[0.6666666666666666,\"#ed7953\"],[0.7777777777777778,\"#fb9f3a\"],[0.8888888888888888,\"#fdca26\"],[1.0,\"#f0f921\"]]}],\"heatmapgl\":[{\"type\":\"heatmapgl\",\"colorbar\":{\"outlinewidth\":0,\"ticks\":\"\"},\"colorscale\":[[0.0,\"#0d0887\"],[0.1111111111111111,\"#46039f\"],[0.2222222222222222,\"#7201a8\"],[0.3333333333333333,\"#9c179e\"],[0.4444444444444444,\"#bd3786\"],[0.5555555555555556,\"#d8576b\"],[0.6666666666666666,\"#ed7953\"],[0.7777777777777778,\"#fb9f3a\"],[0.8888888888888888,\"#fdca26\"],[1.0,\"#f0f921\"]]}],\"contourcarpet\":[{\"type\":\"contourcarpet\",\"colorbar\":{\"outlinewidth\":0,\"ticks\":\"\"}}],\"contour\":[{\"type\":\"contour\",\"colorbar\":{\"outlinewidth\":0,\"ticks\":\"\"},\"colorscale\":[[0.0,\"#0d0887\"],[0.1111111111111111,\"#46039f\"],[0.2222222222222222,\"#7201a8\"],[0.3333333333333333,\"#9c179e\"],[0.4444444444444444,\"#bd3786\"],[0.5555555555555556,\"#d8576b\"],[0.6666666666666666,\"#ed7953\"],[0.7777777777777778,\"#fb9f3a\"],[0.8888888888888888,\"#fdca26\"],[1.0,\"#f0f921\"]]}],\"surface\":[{\"type\":\"surface\",\"colorbar\":{\"outlinewidth\":0,\"ticks\":\"\"},\"colorscale\":[[0.0,\"#0d0887\"],[0.1111111111111111,\"#46039f\"],[0.2222222222222222,\"#7201a8\"],[0.3333333333333333,\"#9c179e\"],[0.4444444444444444,\"#bd3786\"],[0.5555555555555556,\"#d8576b\"],[0.6666666666666666,\"#ed7953\"],[0.7777777777777778,\"#fb9f3a\"],[0.8888888888888888,\"#fdca26\"],[1.0,\"#f0f921\"]]}],\"mesh3d\":[{\"type\":\"mesh3d\",\"colorbar\":{\"outlinewidth\":0,\"ticks\":\"\"}}],\"scatter\":[{\"fillpattern\":{\"fillmode\":\"overlay\",\"size\":10,\"solidity\":0.2},\"type\":\"scatter\"}],\"parcoords\":[{\"type\":\"parcoords\",\"line\":{\"colorbar\":{\"outlinewidth\":0,\"ticks\":\"\"}}}],\"scatterpolargl\":[{\"type\":\"scatterpolargl\",\"marker\":{\"colorbar\":{\"outlinewidth\":0,\"ticks\":\"\"}}}],\"bar\":[{\"error_x\":{\"color\":\"#2a3f5f\"},\"error_y\":{\"color\":\"#2a3f5f\"},\"marker\":{\"line\":{\"color\":\"#E5ECF6\",\"width\":0.5},\"pattern\":{\"fillmode\":\"overlay\",\"size\":10,\"solidity\":0.2}},\"type\":\"bar\"}],\"scattergeo\":[{\"type\":\"scattergeo\",\"marker\":{\"colorbar\":{\"outlinewidth\":0,\"ticks\":\"\"}}}],\"scatterpolar\":[{\"type\":\"scatterpolar\",\"marker\":{\"colorbar\":{\"outlinewidth\":0,\"ticks\":\"\"}}}],\"histogram\":[{\"marker\":{\"pattern\":{\"fillmode\":\"overlay\",\"size\":10,\"solidity\":0.2}},\"type\":\"histogram\"}],\"scattergl\":[{\"type\":\"scattergl\",\"marker\":{\"colorbar\":{\"outlinewidth\":0,\"ticks\":\"\"}}}],\"scatter3d\":[{\"type\":\"scatter3d\",\"line\":{\"colorbar\":{\"outlinewidth\":0,\"ticks\":\"\"}},\"marker\":{\"colorbar\":{\"outlinewidth\":0,\"ticks\":\"\"}}}],\"scattermapbox\":[{\"type\":\"scattermapbox\",\"marker\":{\"colorbar\":{\"outlinewidth\":0,\"ticks\":\"\"}}}],\"scatterternary\":[{\"type\":\"scatterternary\",\"marker\":{\"colorbar\":{\"outlinewidth\":0,\"ticks\":\"\"}}}],\"scattercarpet\":[{\"type\":\"scattercarpet\",\"marker\":{\"colorbar\":{\"outlinewidth\":0,\"ticks\":\"\"}}}],\"carpet\":[{\"aaxis\":{\"endlinecolor\":\"#2a3f5f\",\"gridcolor\":\"white\",\"linecolor\":\"white\",\"minorgridcolor\":\"white\",\"startlinecolor\":\"#2a3f5f\"},\"baxis\":{\"endlinecolor\":\"#2a3f5f\",\"gridcolor\":\"white\",\"linecolor\":\"white\",\"minorgridcolor\":\"white\",\"startlinecolor\":\"#2a3f5f\"},\"type\":\"carpet\"}],\"table\":[{\"cells\":{\"fill\":{\"color\":\"#EBF0F8\"},\"line\":{\"color\":\"white\"}},\"header\":{\"fill\":{\"color\":\"#C8D4E3\"},\"line\":{\"color\":\"white\"}},\"type\":\"table\"}],\"barpolar\":[{\"marker\":{\"line\":{\"color\":\"#E5ECF6\",\"width\":0.5},\"pattern\":{\"fillmode\":\"overlay\",\"size\":10,\"solidity\":0.2}},\"type\":\"barpolar\"}],\"pie\":[{\"automargin\":true,\"type\":\"pie\"}]},\"layout\":{\"autotypenumbers\":\"strict\",\"colorway\":[\"#636efa\",\"#EF553B\",\"#00cc96\",\"#ab63fa\",\"#FFA15A\",\"#19d3f3\",\"#FF6692\",\"#B6E880\",\"#FF97FF\",\"#FECB52\"],\"font\":{\"color\":\"#2a3f5f\"},\"hovermode\":\"closest\",\"hoverlabel\":{\"align\":\"left\"},\"paper_bgcolor\":\"white\",\"plot_bgcolor\":\"#E5ECF6\",\"polar\":{\"bgcolor\":\"#E5ECF6\",\"angularaxis\":{\"gridcolor\":\"white\",\"linecolor\":\"white\",\"ticks\":\"\"},\"radialaxis\":{\"gridcolor\":\"white\",\"linecolor\":\"white\",\"ticks\":\"\"}},\"ternary\":{\"bgcolor\":\"#E5ECF6\",\"aaxis\":{\"gridcolor\":\"white\",\"linecolor\":\"white\",\"ticks\":\"\"},\"baxis\":{\"gridcolor\":\"white\",\"linecolor\":\"white\",\"ticks\":\"\"},\"caxis\":{\"gridcolor\":\"white\",\"linecolor\":\"white\",\"ticks\":\"\"}},\"coloraxis\":{\"colorbar\":{\"outlinewidth\":0,\"ticks\":\"\"}},\"colorscale\":{\"sequential\":[[0.0,\"#0d0887\"],[0.1111111111111111,\"#46039f\"],[0.2222222222222222,\"#7201a8\"],[0.3333333333333333,\"#9c179e\"],[0.4444444444444444,\"#bd3786\"],[0.5555555555555556,\"#d8576b\"],[0.6666666666666666,\"#ed7953\"],[0.7777777777777778,\"#fb9f3a\"],[0.8888888888888888,\"#fdca26\"],[1.0,\"#f0f921\"]],\"sequentialminus\":[[0.0,\"#0d0887\"],[0.1111111111111111,\"#46039f\"],[0.2222222222222222,\"#7201a8\"],[0.3333333333333333,\"#9c179e\"],[0.4444444444444444,\"#bd3786\"],[0.5555555555555556,\"#d8576b\"],[0.6666666666666666,\"#ed7953\"],[0.7777777777777778,\"#fb9f3a\"],[0.8888888888888888,\"#fdca26\"],[1.0,\"#f0f921\"]],\"diverging\":[[0,\"#8e0152\"],[0.1,\"#c51b7d\"],[0.2,\"#de77ae\"],[0.3,\"#f1b6da\"],[0.4,\"#fde0ef\"],[0.5,\"#f7f7f7\"],[0.6,\"#e6f5d0\"],[0.7,\"#b8e186\"],[0.8,\"#7fbc41\"],[0.9,\"#4d9221\"],[1,\"#276419\"]]},\"xaxis\":{\"gridcolor\":\"white\",\"linecolor\":\"white\",\"ticks\":\"\",\"title\":{\"standoff\":15},\"zerolinecolor\":\"white\",\"automargin\":true,\"zerolinewidth\":2},\"yaxis\":{\"gridcolor\":\"white\",\"linecolor\":\"white\",\"ticks\":\"\",\"title\":{\"standoff\":15},\"zerolinecolor\":\"white\",\"automargin\":true,\"zerolinewidth\":2},\"scene\":{\"xaxis\":{\"backgroundcolor\":\"#E5ECF6\",\"gridcolor\":\"white\",\"linecolor\":\"white\",\"showbackground\":true,\"ticks\":\"\",\"zerolinecolor\":\"white\",\"gridwidth\":2},\"yaxis\":{\"backgroundcolor\":\"#E5ECF6\",\"gridcolor\":\"white\",\"linecolor\":\"white\",\"showbackground\":true,\"ticks\":\"\",\"zerolinecolor\":\"white\",\"gridwidth\":2},\"zaxis\":{\"backgroundcolor\":\"#E5ECF6\",\"gridcolor\":\"white\",\"linecolor\":\"white\",\"showbackground\":true,\"ticks\":\"\",\"zerolinecolor\":\"white\",\"gridwidth\":2}},\"shapedefaults\":{\"line\":{\"color\":\"#2a3f5f\"}},\"annotationdefaults\":{\"arrowcolor\":\"#2a3f5f\",\"arrowhead\":0,\"arrowwidth\":1},\"geo\":{\"bgcolor\":\"white\",\"landcolor\":\"#E5ECF6\",\"subunitcolor\":\"white\",\"showland\":true,\"showlakes\":true,\"lakecolor\":\"white\"},\"title\":{\"x\":0.05},\"mapbox\":{\"style\":\"light\"}}},\"xaxis\":{\"rangeslider\":{\"visible\":true},\"title\":{\"text\":\"Date\"}},\"title\":{\"text\":\"Bitcoin Chart\"},\"yaxis\":{\"title\":{\"text\":\"Price USD\"}}},                        {\"responsive\": true}                    ).then(function(){\n",
       "                            \n",
       "var gd = document.getElementById('64091c66-de6f-4482-b46f-f3c61ca996ec');\n",
       "var x = new MutationObserver(function (mutations, observer) {{\n",
       "        var display = window.getComputedStyle(gd).display;\n",
       "        if (!display || display === 'none') {{\n",
       "            console.log([gd, 'removed!']);\n",
       "            Plotly.purge(gd);\n",
       "            observer.disconnect();\n",
       "        }}\n",
       "}});\n",
       "\n",
       "// Listen for the removal of the full notebook cells\n",
       "var notebookContainer = gd.closest('#notebook-container');\n",
       "if (notebookContainer) {{\n",
       "    x.observe(notebookContainer, {childList: true});\n",
       "}}\n",
       "\n",
       "// Listen for the clearing of the current output cell\n",
       "var outputEl = gd.closest('.output');\n",
       "if (outputEl) {{\n",
       "    x.observe(outputEl, {childList: true});\n",
       "}}\n",
       "\n",
       "                        })                };                });            </script>        </div>"
      ]
     },
     "metadata": {},
     "output_type": "display_data"
    }
   ],
   "source": [
    "fig = go.Figure(data=[go.Candlestick(x=ohlc_df['date'],\n",
    "                open=ohlc_df['open'],\n",
    "                high=ohlc_df['high'],\n",
    "                low=ohlc_df['low'],\n",
    "                close=ohlc_df['close'])])\n",
    "\n",
    "# Customize the chart layout\n",
    "fig.update_layout(\n",
    "    title=id_.title() + ' Chart',\n",
    "    xaxis_title='Date',\n",
    "    yaxis_title='Price ' + cur.upper(),\n",
    "    xaxis_rangeslider_visible=True\n",
    ")\n",
    "\n",
    "# Show the chart\n",
    "fig.show()"
   ]
  },
  {
   "cell_type": "code",
   "execution_count": 68,
   "id": "d1e08bda",
   "metadata": {},
   "outputs": [],
   "source": []
  },
  {
   "cell_type": "code",
   "execution_count": 66,
   "id": "a1e46278",
   "metadata": {
    "collapsed": true
   },
   "outputs": [
    {
     "data": {
      "text/plain": [
       "817                             Baby Bitcoin\n",
       "1085                         Binance Bitcoin\n",
       "1091                Binance-Peg Bitcoin Cash\n",
       "1140                                 Bitcoin\n",
       "1141                               Bitcoin 2\n",
       "1142                               Bitcoin20\n",
       "1143                             Bitcoin 2.0\n",
       "1144                            Bitcoin Asia\n",
       "1145       Bitcoin Avalanche Bridged (BTC.b)\n",
       "1146                              BitcoinBam\n",
       "1147                            Bitcoin BEP2\n",
       "1148                              Bitcoin BR\n",
       "1149                            Bitcoin Cash\n",
       "1150                              Bitcoin SV\n",
       "1151                    Bitcoin Confidential\n",
       "1152                         Bitcoin Diamond\n",
       "1153                        Bitcoin E-wallet\n",
       "1154                            Bitcoin Fast\n",
       "1155                       Bitcoin Free Cash\n",
       "1156                             Bitcoin God\n",
       "1157                            Bitcoin Gold\n",
       "1158                           Bitcoin Green\n",
       "1159                             BitcoinMono\n",
       "1160                             Bitcoin Pay\n",
       "1161                             BitcoinPepe\n",
       "1162                            Bitcoin Plus\n",
       "1163                              BitcoinPoS\n",
       "1164                         Bitcoin Private\n",
       "1165                             Bitcoin Pro\n",
       "1166                          Bitcoin Scrypt\n",
       "1167                       Bitcoin Subsidium\n",
       "1168                           Bitcoin TRC20\n",
       "1169                        Bitcointry Token\n",
       "1170                                BitcoinV\n",
       "1171                           Bitcoin Vault\n",
       "1172                               BitcoinVB\n",
       "1173                                BitcoinX\n",
       "1174                                BitcoinZ\n",
       "1453      Bridged Wrapped Bitcoin (Stargate)\n",
       "1454    Bridged Wrapped Bitcoin (TON Bridge)\n",
       "1486                           Bitcoin Faith\n",
       "1847                          ClassicBitcoin\n",
       "4189                        HTX Bitcoin Cash\n",
       "4948                       Lightning Bitcoin\n",
       "5052                            Long Bitcoin\n",
       "5566                   Micro Bitcoin Finance\n",
       "5915                       NanoMeter Bitcoin\n",
       "6245                             Old Bitcoin\n",
       "6334                         Optical Bitcoin\n",
       "6432                               0xBitcoin\n",
       "7038                            PulseBitcoin\n",
       "7039               PulseBitcoin (PulseChain)\n",
       "8648                   The Tokenized Bitcoin\n",
       "8707                         Bitcoin Clashic\n",
       "8966                  Unagii Wrapped Bitcoin\n",
       "9545                         Wrapped Bitcoin\n",
       "9546                 Wrapped Bitcoin - Celer\n",
       "9547                Wrapped Bitcoin (Sollet)\n",
       "9548                  Wrapped Bitcoin-Stacks\n",
       "9709                              XenBitcoin\n",
       "Name: name, dtype: object"
      ]
     },
     "execution_count": 66,
     "metadata": {},
     "output_type": "execute_result"
    }
   ],
   "source": [
    "pd.DataFrame(coin_names)['name'][pd.DataFrame(coin_names)['name'].str.contains('Bitcoin')]"
   ]
  },
  {
   "cell_type": "code",
   "execution_count": 64,
   "id": "7b6f9f01",
   "metadata": {
    "collapsed": true
   },
   "outputs": [
    {
     "data": {
      "text/plain": [
       "0                     01coin\n",
       "1                        Zus\n",
       "2        0 Knowledge Network\n",
       "3              0VIX Protocol\n",
       "4                0x Protocol\n",
       "                ...         \n",
       "10018               Zynecoin\n",
       "10019                Zynergy\n",
       "10020                  Zyrri\n",
       "10021                    ZYX\n",
       "10022            GoSleep ZZZ\n",
       "Name: name, Length: 10023, dtype: object"
      ]
     },
     "execution_count": 64,
     "metadata": {},
     "output_type": "execute_result"
    }
   ],
   "source": [
    "pd.DataFrame(coin_names)['name']"
   ]
  },
  {
   "cell_type": "code",
   "execution_count": null,
   "id": "1c68b07e",
   "metadata": {},
   "outputs": [],
   "source": []
  }
 ],
 "metadata": {
  "kernelspec": {
   "display_name": "Python 3 (ipykernel)",
   "language": "python",
   "name": "python3"
  },
  "language_info": {
   "codemirror_mode": {
    "name": "ipython",
    "version": 3
   },
   "file_extension": ".py",
   "mimetype": "text/x-python",
   "name": "python",
   "nbconvert_exporter": "python",
   "pygments_lexer": "ipython3",
   "version": "3.11.4"
  }
 },
 "nbformat": 4,
 "nbformat_minor": 5
}
